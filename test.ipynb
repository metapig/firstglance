{
 "cells": [
  {
   "cell_type": "code",
   "execution_count": 10,
   "metadata": {},
   "outputs": [
    {
     "name": "stdout",
     "output_type": "stream",
     "text": [
      "1\n",
      "bmw\n",
      "True\n"
     ]
    },
    {
     "data": {
      "text/plain": [
       "True"
      ]
     },
     "execution_count": 10,
     "metadata": {},
     "output_type": "execute_result"
    }
   ],
   "source": [
    "car = \"bmw\"\n",
    "a=1+2\n",
    "car == \"bmw\"\n",
    "print(1)\n",
    "car.upper() == \"bmw\"\n",
    "#两个输出是不同的\n",
    "car\n",
    "print(car)\n",
    "#还会自动换行\n",
    "a\n",
    "#print(a)\n",
    "\n",
    "cars = ['audi','sauber','haas','ferrari']\n",
    "print('benz' not in cars)\n",
    "#直接查看变量或者条件测试只打印最后一个\n",
    "'ferrari' in cars"
   ]
  },
  {
   "cell_type": "code",
   "execution_count": 14,
   "metadata": {},
   "outputs": [
    {
     "name": "stdout",
     "output_type": "stream",
     "text": [
      "8\n"
     ]
    }
   ],
   "source": [
    "if 0:\n",
    "    print(a)\n",
    "else:\n",
    "    print(8)"
   ]
  },
  {
   "cell_type": "code",
   "execution_count": 17,
   "metadata": {},
   "outputs": [],
   "source": [
    "#不会再执行下面的了\n",
    "if 0:\n",
    "    print(1)\n",
    "elif 0:\n",
    "    print(2)"
   ]
  },
  {
   "cell_type": "code",
   "execution_count": null,
   "metadata": {},
   "outputs": [],
   "source": [
    "drivers = {\n",
    "    'leclerc': {\n",
    "        'country': 'monaco',\n",
    "        'team': 'Ferrari',\n",
    "    },\n",
    "    'zhou': {\n",
    "        'points': 2,\n",
    "        'team': 'Alfa Romeo',\n",
    "        'country': \"chinese\", \n",
    "    },\n",
    "    'monitor': ['Fia',44,33],\n",
    "}\n",
    "print(drivers['monitor'][2])\n"
   ]
  }
 ],
 "metadata": {
  "kernelspec": {
   "display_name": "Python 3",
   "language": "python",
   "name": "python3"
  },
  "language_info": {
   "codemirror_mode": {
    "name": "ipython",
    "version": 3
   },
   "file_extension": ".py",
   "mimetype": "text/x-python",
   "name": "python",
   "nbconvert_exporter": "python",
   "pygments_lexer": "ipython3",
   "version": "3.10.11"
  },
  "orig_nbformat": 4
 },
 "nbformat": 4,
 "nbformat_minor": 2
}
