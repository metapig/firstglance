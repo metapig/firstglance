{
 "cells": [
  {
   "cell_type": "code",
   "execution_count": 3,
   "metadata": {},
   "outputs": [
    {
     "name": "stdout",
     "output_type": "stream",
     "text": [
      "114514\n"
     ]
    }
   ],
   "source": [
    "universe_age = 140_000_000\n",
    "x,y,z = 3,4,5\n",
    "#print(x**x + y**y + z**z)\n",
    "MAX_CONSTANT = 114514 # 怎么到处都有homo （恼\n",
    "print(MAX_CONSTANT)"
   ]
  },
  {
   "cell_type": "code",
   "execution_count": 4,
   "metadata": {},
   "outputs": [
    {
     "name": "stdout",
     "output_type": "stream",
     "text": [
      "The Zen of Python, by Tim Peters\n",
      "\n",
      "Beautiful is better than ugly.\n",
      "Explicit is better than implicit.\n",
      "Simple is better than complex.\n",
      "Complex is better than complicated.\n",
      "Flat is better than nested.\n",
      "Sparse is better than dense.\n",
      "Readability counts.\n",
      "Special cases aren't special enough to break the rules.\n",
      "Although practicality beats purity.\n",
      "Errors should never pass silently.\n",
      "Unless explicitly silenced.\n",
      "In the face of ambiguity, refuse the temptation to guess.\n",
      "There should be one-- and preferably only one --obvious way to do it.\n",
      "Although that way may not be obvious at first unless you're Dutch.\n",
      "Now is better than never.\n",
      "Although never is often better than *right* now.\n",
      "If the implementation is hard to explain, it's a bad idea.\n",
      "If the implementation is easy to explain, it may be a good idea.\n",
      "Namespaces are one honking great idea -- let's do more of those!\n"
     ]
    }
   ],
   "source": [
    "import this"
   ]
  },
  {
   "cell_type": "code",
   "execution_count": 13,
   "metadata": {},
   "outputs": [
    {
     "name": "stdout",
     "output_type": "stream",
     "text": [
      "Cy, welcome to dorm!\n",
      "['cy', 'lj', 'rjq', 'xxl']\n",
      "['cy', 'zcx', 'lj', 'rjq', 'xxl']\n",
      "rjq ['cy', 'lj', 'xxl']\n",
      "['lj', 'xxl']\n"
     ]
    }
   ],
   "source": [
    "names = [\"cy\",\"lj\",\"rjq\"]\n",
    "message = f\"{names[0].title()}, welcome to dorm!\"\n",
    "print(message)\n",
    "names.append(\"xxl\")\n",
    "print(names)\n",
    "names.insert(1,'zcx')\n",
    "print(names)\n",
    "del names[1]\n",
    "#king = names.pop()\n",
    "king = names.pop(2)\n",
    "print(king,names)\n",
    "names.remove(\"cy\")\n",
    "print(names)"
   ]
  },
  {
   "cell_type": "code",
   "execution_count": 8,
   "metadata": {},
   "outputs": [
    {
     "name": "stdout",
     "output_type": "stream",
     "text": [
      "['ferrari', 'byd', 'bmw', 'benz', 'audi']\n",
      "['bmw', 'ferrari', 'benz', 'audi', 'byd']\n",
      "['ferrari', 'byd', 'bmw', 'benz', 'audi']\n",
      "['audi', 'benz', 'bmw', 'byd', 'ferrari']\n",
      "5\n",
      "ferrari\n"
     ]
    }
   ],
   "source": [
    "car = ['bmw','ferrari','benz','audi','byd']\n",
    "print(sorted(car,reverse=True))\n",
    "print(car)\n",
    "car.sort(reverse=True)\n",
    "print(car)\n",
    "car.reverse()\n",
    "print(car)\n",
    "print(len(car))\n",
    "print(car[-1])"
   ]
  },
  {
   "cell_type": "code",
   "execution_count": 11,
   "metadata": {},
   "outputs": [
    {
     "name": "stdout",
     "output_type": "stream",
     "text": [
      "that was awesome, Sumsang\n",
      "that was awesome, Oppo\n",
      "that was awesome, Honor\n",
      "that was awesome, Apple\n"
     ]
    }
   ],
   "source": [
    "phones = ['sumsang','oppo','honor','apple']\n",
    "for each in phones:\n",
    "    #print(each)\n",
    "    print(f\"that was awesome, {each.title()}\")"
   ]
  },
  {
   "cell_type": "code",
   "execution_count": 20,
   "metadata": {},
   "outputs": [
    {
     "name": "stdout",
     "output_type": "stream",
     "text": [
      "1\n",
      "2\n",
      "3\n",
      "4\n",
      "range(0, 6)\n",
      "[0, 5, 10, 15]\n"
     ]
    }
   ],
   "source": [
    "for value in range(1,5):\n",
    "    print(value)\n",
    "xdata = range(6)\n",
    "print(xdata)\n",
    "xlist = list(range(0,17,5))\n",
    "\n",
    "print(xlist)"
   ]
  },
  {
   "cell_type": "code",
   "execution_count": 24,
   "metadata": {},
   "outputs": [
    {
     "name": "stdout",
     "output_type": "stream",
     "text": [
      "[0, 1, 4, 9, 16, 25, 36, 49, 64, 81, 100]\n",
      "0 100 385\n"
     ]
    }
   ],
   "source": [
    "square = []\n",
    "for value in range(0,11):\n",
    "    square.append(value ** 2)\n",
    "print(square)\n",
    "print(min(square),max(square),sum(square))"
   ]
  },
  {
   "cell_type": "code",
   "execution_count": 26,
   "metadata": {},
   "outputs": [
    {
     "name": "stdout",
     "output_type": "stream",
     "text": [
      "24502500\n"
     ]
    }
   ],
   "source": [
    "liebiao = [value ** 3 for value in range(0,100)]\n",
    "print(sum(liebiao))"
   ]
  },
  {
   "cell_type": "code",
   "execution_count": 33,
   "metadata": {},
   "outputs": [
    {
     "name": "stdout",
     "output_type": "stream",
     "text": [
      "[3, 5]\n",
      "1\n",
      "4\n"
     ]
    }
   ],
   "source": [
    "liebiao = list(range(1,7))\n",
    "print(liebiao[-4::2])\n",
    "for value in liebiao[:6:3]:\n",
    "    print(value)"
   ]
  },
  {
   "cell_type": "code",
   "execution_count": 37,
   "metadata": {},
   "outputs": [
    {
     "name": "stdout",
     "output_type": "stream",
     "text": [
      "F12\n",
      "LaFerrari\n",
      "AMG\n",
      "Benzema\n",
      "G\n",
      "['F12', 'LaFerrari', 'AMG', 'Benzema', 'G']\n"
     ]
    }
   ],
   "source": [
    "my_cars = [\"F12\",\"LaFerrari\",\"AMG\",\"Benzema\"]\n",
    "girlfriend_cars = my_cars\n",
    "girlfriend_cars.append(\"G\")\n",
    "for car in girlfriend_cars[-5:]:\n",
    "    print(car)\n",
    "print(my_cars)"
   ]
  },
  {
   "cell_type": "code",
   "execution_count": 1,
   "metadata": {},
   "outputs": [
    {
     "name": "stdout",
     "output_type": "stream",
     "text": [
      "3\n",
      "34\n",
      "5\n",
      "52\n"
     ]
    }
   ],
   "source": [
    "META = 9,3,\n",
    "print(META[1])\n",
    "META = 2,9,34,53,5,34,52,\n",
    "for value in META[2:9:2]:\n",
    "    print(value)"
   ]
  },
  {
   "cell_type": "code",
   "execution_count": 4,
   "metadata": {},
   "outputs": [
    {
     "name": "stdout",
     "output_type": "stream",
     "text": [
      "[1, 3, 5, 7]\n"
     ]
    }
   ],
   "source": [
    "liebiaoo = list(range(1,9,2))\n",
    "print(liebiaoo)"
   ]
  }
 ],
 "metadata": {
  "kernelspec": {
   "display_name": "Python 3",
   "language": "python",
   "name": "python3"
  },
  "language_info": {
   "codemirror_mode": {
    "name": "ipython",
    "version": 3
   },
   "file_extension": ".py",
   "mimetype": "text/x-python",
   "name": "python",
   "nbconvert_exporter": "python",
   "pygments_lexer": "ipython3",
   "version": "3.10.11"
  },
  "orig_nbformat": 4
 },
 "nbformat": 4,
 "nbformat_minor": 2
}
